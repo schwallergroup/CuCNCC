{
 "cells": [
  {
   "cell_type": "markdown",
   "metadata": {},
   "source": [
    "# K-fold validation test with 80/20 models"
   ]
  },
  {
   "cell_type": "code",
   "execution_count": 2,
   "metadata": {},
   "outputs": [
    {
     "name": "stderr",
     "output_type": "stream",
     "text": [
      "Using `tqdm.autonotebook.tqdm` in notebook mode. Use `tqdm.tqdm` instead to force console mode (e.g. in jupyter console)\n"
     ]
    }
   ],
   "source": [
    "import pandas\n",
    "import sklearn\n",
    "import scipy\n",
    "from sklearn import model_selection, linear_model, preprocessing, metrics, ensemble\n",
    "from sklearn.model_selection import train_test_split, KFold\n",
    "from sklearn.linear_model import LinearRegression\n",
    "from sklearn.preprocessing import LabelEncoder\n",
    "from sklearn.metrics import r2_score, mean_squared_error, mean_absolute_error\n",
    "from sklearn.ensemble import RandomForestRegressor\n",
    "from scipy import cluster\n",
    "from scipy.cluster import hierarchy\n",
    "import numpy as np\n",
    "import matplotlib.pyplot as plt\n",
    "import seaborn as sns\n",
    "import shap"
   ]
  },
  {
   "cell_type": "code",
   "execution_count": 3,
   "metadata": {},
   "outputs": [],
   "source": [
    "rxns_df_x = pandas.read_csv(\"godineau2023_reactions_OHE1.csv\")\n",
    "rxns_df_x = rxns_df_x.drop('Unnamed: 0', axis=1)\n",
    "rxns_df_x = rxns_df_x.drop('Round', axis=1)\n",
    "rxns_df_y = pandas.read_csv(\"godineau2023_yields_OHE.csv\")\n",
    "rxns_df_y = rxns_df_y.drop('Unnamed: 0', axis=1)"
   ]
  },
  {
   "cell_type": "code",
   "execution_count": 12,
   "metadata": {},
   "outputs": [
    {
     "name": "stdout",
     "output_type": "stream",
     "text": [
      "TRAIN: [  0   2   3   5   6   7  10  11  12  14  15  16  17  18  21  23  24  25\n",
      "  26  27  28  29  30  31  32  33  34  35  36  38  39  40  41  43  44  45\n",
      "  46  48  49  50  51  54  55  56  57  58  60  61  62  63  65  66  67  68\n",
      "  69  72  73  74  76  77  79  80  81  82  83  84  87  89  90  91  92  93\n",
      "  94  96  97  98  99 100 101 103 104 105 106 107 108 110 111 112 113 114\n",
      " 116 117 118 119 120 121 122 123 124 125 126 127 129 130 132 133 134 135\n",
      " 137 138 139 140 142 143 144 145 146 148 149 150 151 152 153 154 155 157\n",
      " 158 159 160 162 165 166 167 168 170 171 172 173 175 176 177 180 181 183\n",
      " 184 185 186 187 188 189 190 191 192 193 194 195 197 198 199 200 201 202\n",
      " 203 204 206 207 208 209 211 212 213 214 215 216 218 219 220 223 224 225\n",
      " 227 229 230 231 232 234 235 236 237 238 239 241 242 243 244 246 247 248\n",
      " 249 250 251 252 253 254 256 257 258 260 261 262 263] TEST: [  1   4   8   9  13  19  20  22  37  42  47  52  53  59  64  70  71  75\n",
      "  78  85  86  88  95 102 109 115 128 131 136 141 147 156 161 163 164 169\n",
      " 174 178 179 182 196 205 210 217 221 222 226 228 233 240 245 255 259]\n"
     ]
    },
    {
     "name": "stderr",
     "output_type": "stream",
     "text": [
      "A column-vector y was passed when a 1d array was expected. Please change the shape of y to (n_samples,), for example using ravel().\n"
     ]
    },
    {
     "name": "stdout",
     "output_type": "stream",
     "text": [
      "217.5122132375473\n",
      "0.3767350757776059\n",
      "TRAIN: [  1   2   4   5   6   7   8   9  10  11  12  13  14  15  16  17  18  19\n",
      "  20  21  22  26  27  28  29  30  31  32  33  34  36  37  38  40  42  43\n",
      "  44  45  47  48  49  50  51  52  53  56  57  58  59  60  61  62  63  64\n",
      "  65  67  69  70  71  72  73  74  75  77  78  79  80  82  83  84  85  86\n",
      "  87  88  89  90  91  93  94  95  98  99 100 102 104 105 106 107 108 109\n",
      " 110 112 114 115 117 118 119 122 125 127 128 129 130 131 132 133 134 135\n",
      " 136 138 139 140 141 143 144 145 146 147 148 151 152 154 155 156 158 159\n",
      " 160 161 162 163 164 166 167 169 170 172 173 174 178 179 180 182 183 184\n",
      " 185 186 187 188 189 190 192 193 194 195 196 197 198 200 201 202 203 204\n",
      " 205 206 209 210 211 213 214 215 216 217 218 220 221 222 223 224 226 227\n",
      " 228 230 231 232 233 234 235 236 237 238 239 240 242 243 245 246 248 249\n",
      " 251 252 253 254 255 256 257 258 259 260 261 262 263] TEST: [  0   3  23  24  25  35  39  41  46  54  55  66  68  76  81  92  96  97\n",
      " 101 103 111 113 116 120 121 123 124 126 137 142 149 150 153 157 165 168\n",
      " 171 175 176 177 181 191 199 207 208 212 219 225 229 241 244 247 250]\n"
     ]
    },
    {
     "name": "stderr",
     "output_type": "stream",
     "text": [
      "A column-vector y was passed when a 1d array was expected. Please change the shape of y to (n_samples,), for example using ravel().\n"
     ]
    },
    {
     "name": "stdout",
     "output_type": "stream",
     "text": [
      "112.37495160320759\n",
      "0.7820261050247431\n",
      "TRAIN: [  0   1   3   4   5   6   7   8   9  10  12  13  15  16  17  19  20  21\n",
      "  22  23  24  25  26  27  28  29  30  31  32  33  34  35  36  37  38  39\n",
      "  40  41  42  43  44  45  46  47  48  49  50  52  53  54  55  56  57  59\n",
      "  60  62  64  65  66  68  69  70  71  72  74  75  76  78  79  80  81  83\n",
      "  84  85  86  87  88  90  91  92  94  95  96  97  99 101 102 103 104 106\n",
      " 109 111 113 114 115 116 117 119 120 121 123 124 126 127 128 130 131 132\n",
      " 133 134 136 137 139 140 141 142 144 146 147 148 149 150 151 152 153 154\n",
      " 155 156 157 160 161 163 164 165 166 168 169 171 174 175 176 177 178 179\n",
      " 180 181 182 183 184 185 186 187 188 189 191 192 193 194 196 197 198 199\n",
      " 200 201 202 203 205 206 207 208 210 211 212 213 216 217 219 220 221 222\n",
      " 223 224 225 226 227 228 229 231 232 233 234 235 236 237 238 239 240 241\n",
      " 243 244 245 246 247 248 249 250 251 254 255 259 262] TEST: [  2  11  14  18  51  58  61  63  67  73  77  82  89  93  98 100 105 107\n",
      " 108 110 112 118 122 125 129 135 138 143 145 158 159 162 167 170 172 173\n",
      " 190 195 204 209 214 215 218 230 242 252 253 256 257 258 260 261 263]\n"
     ]
    },
    {
     "name": "stderr",
     "output_type": "stream",
     "text": [
      "A column-vector y was passed when a 1d array was expected. Please change the shape of y to (n_samples,), for example using ravel().\n"
     ]
    },
    {
     "name": "stdout",
     "output_type": "stream",
     "text": [
      "424.3170788024528\n",
      "0.27244938734447455\n",
      "TRAIN: [  0   1   2   3   4   8   9  10  11  13  14  16  17  18  19  20  21  22\n",
      "  23  24  25  26  27  28  31  32  34  35  37  38  39  40  41  42  45  46\n",
      "  47  51  52  53  54  55  58  59  60  61  62  63  64  66  67  68  69  70\n",
      "  71  72  73  75  76  77  78  79  81  82  85  86  87  88  89  90  92  93\n",
      "  94  95  96  97  98  99 100 101 102 103 105 107 108 109 110 111 112 113\n",
      " 114 115 116 118 119 120 121 122 123 124 125 126 128 129 131 132 134 135\n",
      " 136 137 138 140 141 142 143 145 147 149 150 151 152 153 155 156 157 158\n",
      " 159 160 161 162 163 164 165 166 167 168 169 170 171 172 173 174 175 176\n",
      " 177 178 179 181 182 184 187 189 190 191 193 195 196 197 199 200 201 202\n",
      " 204 205 206 207 208 209 210 211 212 214 215 217 218 219 220 221 222 224\n",
      " 225 226 227 228 229 230 231 232 233 235 237 240 241 242 243 244 245 247\n",
      " 248 250 251 252 253 255 256 257 258 259 260 261 263] TEST: [  5   6   7  12  15  29  30  33  36  43  44  48  49  50  56  57  65  74\n",
      "  80  83  84  91 104 106 117 127 130 133 139 144 146 148 154 180 183 185\n",
      " 186 188 192 194 198 203 213 216 223 234 236 238 239 246 249 254 262]\n"
     ]
    },
    {
     "name": "stderr",
     "output_type": "stream",
     "text": [
      "A column-vector y was passed when a 1d array was expected. Please change the shape of y to (n_samples,), for example using ravel().\n"
     ]
    },
    {
     "name": "stdout",
     "output_type": "stream",
     "text": [
      "170.85461171169797\n",
      "0.5823641598394604\n",
      "TRAIN: [  0   1   2   3   4   5   6   7   8   9  11  12  13  14  15  18  19  20\n",
      "  22  23  24  25  29  30  33  35  36  37  39  41  42  43  44  46  47  48\n",
      "  49  50  51  52  53  54  55  56  57  58  59  61  63  64  65  66  67  68\n",
      "  70  71  73  74  75  76  77  78  80  81  82  83  84  85  86  88  89  91\n",
      "  92  93  95  96  97  98 100 101 102 103 104 105 106 107 108 109 110 111\n",
      " 112 113 115 116 117 118 120 121 122 123 124 125 126 127 128 129 130 131\n",
      " 133 135 136 137 138 139 141 142 143 144 145 146 147 148 149 150 153 154\n",
      " 156 157 158 159 161 162 163 164 165 167 168 169 170 171 172 173 174 175\n",
      " 176 177 178 179 180 181 182 183 185 186 188 190 191 192 194 195 196 198\n",
      " 199 203 204 205 207 208 209 210 212 213 214 215 216 217 218 219 221 222\n",
      " 223 225 226 228 229 230 233 234 236 238 239 240 241 242 244 245 246 247\n",
      " 249 250 252 253 254 255 256 257 258 259 260 261 262 263] TEST: [ 10  16  17  21  26  27  28  31  32  34  38  40  45  60  62  69  72  79\n",
      "  87  90  94  99 114 119 132 134 140 151 152 155 160 166 184 187 189 193\n",
      " 197 200 201 202 206 211 220 224 227 231 232 235 237 243 248 251]\n"
     ]
    },
    {
     "name": "stderr",
     "output_type": "stream",
     "text": [
      "A column-vector y was passed when a 1d array was expected. Please change the shape of y to (n_samples,), for example using ravel().\n"
     ]
    },
    {
     "name": "stdout",
     "output_type": "stream",
     "text": [
      "194.9252457515384\n",
      "0.5790554263979149\n"
     ]
    }
   ],
   "source": [
    "model = RandomForestRegressor(random_state=42)\n",
    "\n",
    "cv = model_selection.KFold(n_splits=5, shuffle=True)\n",
    "\n",
    "for train_index, test_index in cv.split(rxns_df_x):\n",
    "    print(\"TRAIN:\", train_index, \"TEST:\", test_index)\n",
    "    X_train, X_test = rxns_df_x.iloc[train_index], rxns_df_x.iloc[test_index]\n",
    "    y_train, y_test = rxns_df_y.iloc[train_index], rxns_df_y.iloc[test_index]\n",
    "\n",
    "    # For training, fit() is used\n",
    "    model.fit(X_train, y_train)\n",
    " \n",
    "    # For other metrics, we need the predictions of the model\n",
    "    y_pred = model.predict(X_test)\n",
    "\n",
    "    print(metrics.mean_squared_error(y_test, y_pred))\n",
    "    print(metrics.r2_score(y_test, y_pred))"
   ]
  },
  {
   "cell_type": "code",
   "execution_count": 13,
   "metadata": {},
   "outputs": [
    {
     "name": "stdout",
     "output_type": "stream",
     "text": [
      "TRAIN: [  0   1   2   3   6   7   8   9  10  11  12  13  14  15  16  19  20  21\n",
      "  22  23  24  25  26  27  28  29  31  32  33  34  36  37  38  39  40  41\n",
      "  42  43  44  45  46  48  49  52  53  54  55  56  57  58  59  60  61  62\n",
      "  63  66  69  70  72  73  74  76  77  78  80  81  82  84  85  86  89  91\n",
      "  92  93  94  95  96  97  98  99 101 102 103 104 105 106 107 108 109 110\n",
      " 111 112 113 114 115 116 117 118 119 121 123 124 125 126 127 128 131 132\n",
      " 133 134 135 137 138 139 140 141 144 145 146 147 148 149 150 151 152 153\n",
      " 154 155 156 157 158 159 162 163 164 166 167 168 170 172 173 175 176 178\n",
      " 179 180 181 182 183 184 185 186 188 190 191 192 193 194 195 196 198 199\n",
      " 200 201 203 204 205 208 209 210 212 213 214 215 216 218 219 220 221 222\n",
      " 223 224 226 227 228 229 230 231 232 236 237 238 239 240 241 242 244 245\n",
      " 246 248 249 250 251 252 254 256 257 259 260 261 262] TEST: [  4   5  17  18  30  35  47  50  51  64  65  67  68  71  75  79  83  87\n",
      "  88  90 100 120 122 129 130 136 142 143 160 161 165 169 171 174 177 187\n",
      " 189 197 202 206 207 211 217 225 233 234 235 243 247 253 255 258 263]\n"
     ]
    },
    {
     "name": "stderr",
     "output_type": "stream",
     "text": [
      "A column-vector y was passed when a 1d array was expected. Please change the shape of y to (n_samples,), for example using ravel().\n"
     ]
    },
    {
     "name": "stdout",
     "output_type": "stream",
     "text": [
      "253.40231333698114\n",
      "0.52329369050765\n",
      "TRAIN: [  1   2   3   4   5   6   7   8   9  10  11  12  13  15  16  17  18  19\n",
      "  20  21  25  26  28  29  30  31  32  33  34  35  37  38  41  42  43  46\n",
      "  47  48  49  50  51  52  54  56  58  59  60  61  62  64  65  66  67  68\n",
      "  69  71  72  73  74  75  76  77  78  79  80  81  82  83  84  85  86  87\n",
      "  88  90  93  94  97  98  99 100 103 104 105 106 108 109 110 112 113 114\n",
      " 117 120 121 122 124 126 127 128 129 130 133 134 135 136 137 139 141 142\n",
      " 143 145 146 147 148 149 150 151 152 154 155 156 157 159 160 161 162 163\n",
      " 164 165 168 169 170 171 172 173 174 175 176 177 178 179 180 181 182 184\n",
      " 185 186 187 188 189 191 192 194 195 196 197 198 199 200 202 203 204 206\n",
      " 207 208 209 210 211 213 215 217 219 220 221 224 225 226 227 228 229 230\n",
      " 231 232 233 234 235 237 238 239 240 241 242 243 244 245 246 247 248 249\n",
      " 250 251 252 253 254 255 256 258 259 260 261 262 263] TEST: [  0  14  22  23  24  27  36  39  40  44  45  53  55  57  63  70  89  91\n",
      "  92  95  96 101 102 107 111 115 116 118 119 123 125 131 132 138 140 144\n",
      " 153 158 166 167 183 190 193 201 205 212 214 216 218 222 223 236 257]\n"
     ]
    },
    {
     "name": "stderr",
     "output_type": "stream",
     "text": [
      "A column-vector y was passed when a 1d array was expected. Please change the shape of y to (n_samples,), for example using ravel().\n"
     ]
    },
    {
     "name": "stdout",
     "output_type": "stream",
     "text": [
      "135.23679886698113\n",
      "0.6718273745455681\n",
      "TRAIN: [  0   1   2   3   4   5   7  10  11  12  13  14  15  16  17  18  20  21\n",
      "  22  23  24  25  26  27  29  30  32  33  35  36  37  38  39  40  41  42\n",
      "  43  44  45  47  50  51  53  54  55  56  57  60  61  63  64  65  66  67\n",
      "  68  70  71  74  75  76  77  79  80  81  83  84  85  87  88  89  90  91\n",
      "  92  93  95  96  97  98  99 100 101 102 103 107 108 109 110 111 112 113\n",
      " 115 116 117 118 119 120 121 122 123 124 125 127 129 130 131 132 133 134\n",
      " 135 136 137 138 139 140 142 143 144 145 146 147 149 150 153 155 156 157\n",
      " 158 159 160 161 164 165 166 167 169 171 172 173 174 175 177 179 180 181\n",
      " 183 185 186 187 188 189 190 191 192 193 194 195 196 197 198 200 201 202\n",
      " 205 206 207 208 209 211 212 213 214 215 216 217 218 219 220 221 222 223\n",
      " 224 225 226 232 233 234 235 236 237 238 239 240 241 242 243 244 245 246\n",
      " 247 248 249 251 252 253 255 257 258 260 261 262 263] TEST: [  6   8   9  19  28  31  34  46  48  49  52  58  59  62  69  72  73  78\n",
      "  82  86  94 104 105 106 114 126 128 141 148 151 152 154 162 163 168 170\n",
      " 176 178 182 184 199 203 204 210 227 228 229 230 231 250 254 256 259]\n"
     ]
    },
    {
     "name": "stderr",
     "output_type": "stream",
     "text": [
      "A column-vector y was passed when a 1d array was expected. Please change the shape of y to (n_samples,), for example using ravel().\n"
     ]
    },
    {
     "name": "stdout",
     "output_type": "stream",
     "text": [
      "257.10875286471696\n",
      "0.4182066383321763\n",
      "TRAIN: [  0   2   3   4   5   6   8   9  12  13  14  17  18  19  20  22  23  24\n",
      "  26  27  28  30  31  32  33  34  35  36  38  39  40  42  44  45  46  47\n",
      "  48  49  50  51  52  53  55  56  57  58  59  60  61  62  63  64  65  67\n",
      "  68  69  70  71  72  73  74  75  76  77  78  79  80  81  82  83  84  85\n",
      "  86  87  88  89  90  91  92  94  95  96  98  99 100 101 102 103 104 105\n",
      " 106 107 109 110 111 113 114 115 116 118 119 120 121 122 123 125 126 127\n",
      " 128 129 130 131 132 134 135 136 137 138 140 141 142 143 144 148 149 150\n",
      " 151 152 153 154 155 156 157 158 159 160 161 162 163 165 166 167 168 169\n",
      " 170 171 173 174 176 177 178 182 183 184 187 189 190 191 192 193 195 196\n",
      " 197 199 201 202 203 204 205 206 207 208 209 210 211 212 214 216 217 218\n",
      " 219 222 223 225 227 228 229 230 231 232 233 234 235 236 239 242 243 244\n",
      " 247 250 253 254 255 256 257 258 259 260 261 262 263] TEST: [  1   7  10  11  15  16  21  25  29  37  41  43  54  66  93  97 108 112\n",
      " 117 124 133 139 145 146 147 164 172 175 179 180 181 185 186 188 194 198\n",
      " 200 213 215 220 221 224 226 237 238 240 241 245 246 248 249 251 252]\n"
     ]
    },
    {
     "name": "stderr",
     "output_type": "stream",
     "text": [
      "A column-vector y was passed when a 1d array was expected. Please change the shape of y to (n_samples,), for example using ravel().\n"
     ]
    },
    {
     "name": "stdout",
     "output_type": "stream",
     "text": [
      "204.08244972660395\n",
      "0.6363855064485748\n",
      "TRAIN: [  0   1   4   5   6   7   8   9  10  11  14  15  16  17  18  19  21  22\n",
      "  23  24  25  27  28  29  30  31  34  35  36  37  39  40  41  43  44  45\n",
      "  46  47  48  49  50  51  52  53  54  55  57  58  59  62  63  64  65  66\n",
      "  67  68  69  70  71  72  73  75  78  79  82  83  86  87  88  89  90  91\n",
      "  92  93  94  95  96  97 100 101 102 104 105 106 107 108 111 112 114 115\n",
      " 116 117 118 119 120 122 123 124 125 126 128 129 130 131 132 133 136 138\n",
      " 139 140 141 142 143 144 145 146 147 148 151 152 153 154 158 160 161 162\n",
      " 163 164 165 166 167 168 169 170 171 172 174 175 176 177 178 179 180 181\n",
      " 182 183 184 185 186 187 188 189 190 193 194 197 198 199 200 201 202 203\n",
      " 204 205 206 207 210 211 212 213 214 215 216 217 218 220 221 222 223 224\n",
      " 225 226 227 228 229 230 231 233 234 235 236 237 238 240 241 243 245 246\n",
      " 247 248 249 250 251 252 253 254 255 256 257 258 259 263] TEST: [  2   3  12  13  20  26  32  33  38  42  56  60  61  74  76  77  80  81\n",
      "  84  85  98  99 103 109 110 113 121 127 134 135 137 149 150 155 156 157\n",
      " 159 173 191 192 195 196 208 209 219 232 239 242 244 260 261 262]\n"
     ]
    },
    {
     "name": "stderr",
     "output_type": "stream",
     "text": [
      "A column-vector y was passed when a 1d array was expected. Please change the shape of y to (n_samples,), for example using ravel().\n"
     ]
    },
    {
     "name": "stdout",
     "output_type": "stream",
     "text": [
      "168.41067082942303\n",
      "0.5875106430258539\n"
     ]
    }
   ],
   "source": [
    "model = RandomForestRegressor(random_state=42)\n",
    "\n",
    "cv = model_selection.KFold(n_splits=5, shuffle=True)\n",
    "\n",
    "for train_index, test_index in cv.split(rxns_df_x):\n",
    "    print(\"TRAIN:\", train_index, \"TEST:\", test_index)\n",
    "    X_train, X_test = rxns_df_x.iloc[train_index], rxns_df_x.iloc[test_index]\n",
    "    y_train, y_test = rxns_df_y.iloc[train_index], rxns_df_y.iloc[test_index]\n",
    "\n",
    "    # For training, fit() is used\n",
    "    model.fit(X_train, y_train)\n",
    " \n",
    "    # For other metrics, we need the predictions of the model\n",
    "    y_pred = model.predict(X_test)\n",
    "\n",
    "    print(metrics.mean_squared_error(y_test, y_pred))\n",
    "    print(metrics.r2_score(y_test, y_pred))"
   ]
  },
  {
   "cell_type": "code",
   "execution_count": 14,
   "metadata": {},
   "outputs": [
    {
     "name": "stdout",
     "output_type": "stream",
     "text": [
      "TRAIN: [  0   1   2   3   4   5   7   8   9  10  12  14  15  16  17  18  19  20\n",
      "  23  24  25  26  28  29  30  32  33  35  36  37  38  40  43  44  45  46\n",
      "  47  48  49  51  52  54  56  57  58  59  60  61  62  63  64  66  67  69\n",
      "  71  76  77  78  79  80  81  82  83  84  86  87  88  89  90  91  92  93\n",
      "  94  95  96  97  98  99 100 101 102 103 105 106 107 108 109 110 111 112\n",
      " 114 115 117 118 119 120 121 123 124 125 126 127 129 130 132 133 134 135\n",
      " 137 138 139 140 141 142 143 145 146 147 148 149 151 152 154 155 156 157\n",
      " 158 159 160 162 163 164 165 167 169 171 172 173 174 175 179 180 181 182\n",
      " 183 184 185 186 187 188 189 190 192 193 194 195 196 197 198 199 200 201\n",
      " 202 204 205 206 207 208 209 210 212 213 216 217 219 220 222 223 224 225\n",
      " 226 227 229 230 231 232 234 236 237 238 239 240 241 242 243 246 247 248\n",
      " 249 250 251 252 254 256 257 258 259 260 261 262 263] TEST: [  6  11  13  21  22  27  31  34  39  41  42  50  53  55  65  68  70  72\n",
      "  73  74  75  85 104 113 116 122 128 131 136 144 150 153 161 166 168 170\n",
      " 176 177 178 191 203 211 214 215 218 221 228 233 235 244 245 253 255]\n"
     ]
    },
    {
     "name": "stderr",
     "output_type": "stream",
     "text": [
      "A column-vector y was passed when a 1d array was expected. Please change the shape of y to (n_samples,), for example using ravel().\n"
     ]
    },
    {
     "name": "stdout",
     "output_type": "stream",
     "text": [
      "152.18180325245285\n",
      "0.6036654739436158\n",
      "TRAIN: [  1   2   4   5   6   7   8   9  11  13  15  16  18  19  21  22  23  24\n",
      "  25  26  27  28  29  31  32  33  34  35  36  37  38  39  40  41  42  43\n",
      "  45  46  47  48  49  50  51  52  53  54  55  56  57  58  59  60  62  63\n",
      "  64  65  66  68  69  70  71  72  73  74  75  76  77  78  79  80  81  82\n",
      "  83  84  85  86  89  90  91  93  94  95  96  97  98 101 103 104 105 106\n",
      " 107 108 109 110 111 113 114 115 116 117 118 119 120 121 122 123 124 125\n",
      " 126 127 128 130 131 133 134 135 136 138 140 141 142 143 144 145 146 150\n",
      " 153 154 156 157 159 161 163 166 168 169 170 171 174 175 176 177 178 179\n",
      " 180 181 182 183 185 187 188 190 191 192 193 194 195 196 198 200 201 202\n",
      " 203 204 206 207 208 209 210 211 214 215 216 217 218 220 221 222 224 225\n",
      " 226 227 228 229 230 231 232 233 235 236 237 238 241 243 244 245 247 248\n",
      " 249 250 251 252 253 254 255 256 257 259 260 261 263] TEST: [  0   3  10  12  14  17  20  30  44  61  67  87  88  92  99 100 102 112\n",
      " 129 132 137 139 147 148 149 151 152 155 158 160 162 164 165 167 172 173\n",
      " 184 186 189 197 199 205 212 213 219 223 234 239 240 242 246 258 262]\n"
     ]
    },
    {
     "name": "stderr",
     "output_type": "stream",
     "text": [
      "A column-vector y was passed when a 1d array was expected. Please change the shape of y to (n_samples,), for example using ravel().\n"
     ]
    },
    {
     "name": "stdout",
     "output_type": "stream",
     "text": [
      "225.07894556471695\n",
      "0.5460712642022261\n",
      "TRAIN: [  0   1   2   3   6   7   9  10  11  12  13  14  17  18  19  20  21  22\n",
      "  24  25  26  27  28  30  31  33  34  37  38  39  40  41  42  43  44  45\n",
      "  47  48  50  51  53  54  55  58  60  61  63  64  65  66  67  68  69  70\n",
      "  72  73  74  75  79  80  81  84  85  86  87  88  89  91  92  93  95  97\n",
      "  99 100 102 103 104 105 106 107 109 111 112 113 114 115 116 117 119 120\n",
      " 121 122 123 124 125 126 127 128 129 130 131 132 133 135 136 137 138 139\n",
      " 140 141 142 143 144 146 147 148 149 150 151 152 153 154 155 156 157 158\n",
      " 159 160 161 162 164 165 166 167 168 169 170 172 173 175 176 177 178 179\n",
      " 180 182 183 184 185 186 188 189 191 192 193 195 197 198 199 200 201 202\n",
      " 203 204 205 207 208 209 211 212 213 214 215 216 218 219 220 221 222 223\n",
      " 224 225 226 227 228 231 233 234 235 237 238 239 240 241 242 244 245 246\n",
      " 248 249 251 252 253 255 257 258 259 260 261 262 263] TEST: [  4   5   8  15  16  23  29  32  35  36  46  49  52  56  57  59  62  71\n",
      "  76  77  78  82  83  90  94  96  98 101 108 110 118 134 145 163 171 174\n",
      " 181 187 190 194 196 206 210 217 229 230 232 236 243 247 250 254 256]\n"
     ]
    },
    {
     "name": "stderr",
     "output_type": "stream",
     "text": [
      "A column-vector y was passed when a 1d array was expected. Please change the shape of y to (n_samples,), for example using ravel().\n"
     ]
    },
    {
     "name": "stdout",
     "output_type": "stream",
     "text": [
      "263.6812001698113\n",
      "0.463067793054629\n",
      "TRAIN: [  0   3   4   5   6   7   8  10  11  12  13  14  15  16  17  18  20  21\n",
      "  22  23  25  26  27  29  30  31  32  33  34  35  36  38  39  40  41  42\n",
      "  44  46  49  50  52  53  55  56  57  59  60  61  62  64  65  66  67  68\n",
      "  69  70  71  72  73  74  75  76  77  78  82  83  84  85  86  87  88  90\n",
      "  91  92  93  94  96  97  98  99 100 101 102 104 106 107 108 110 112 113\n",
      " 116 117 118 119 120 121 122 124 125 127 128 129 130 131 132 134 136 137\n",
      " 139 140 141 142 143 144 145 147 148 149 150 151 152 153 155 156 158 160\n",
      " 161 162 163 164 165 166 167 168 170 171 172 173 174 175 176 177 178 181\n",
      " 184 185 186 187 189 190 191 192 194 196 197 198 199 201 202 203 204 205\n",
      " 206 207 208 209 210 211 212 213 214 215 217 218 219 221 222 223 225 226\n",
      " 228 229 230 231 232 233 234 235 236 239 240 241 242 243 244 245 246 247\n",
      " 248 250 251 252 253 254 255 256 257 258 261 262 263] TEST: [  1   2   9  19  24  28  37  43  45  47  48  51  54  58  63  79  80  81\n",
      "  89  95 103 105 109 111 114 115 123 126 133 135 138 146 154 157 159 169\n",
      " 179 180 182 183 188 193 195 200 216 220 224 227 237 238 249 259 260]\n"
     ]
    },
    {
     "name": "stderr",
     "output_type": "stream",
     "text": [
      "A column-vector y was passed when a 1d array was expected. Please change the shape of y to (n_samples,), for example using ravel().\n"
     ]
    },
    {
     "name": "stdout",
     "output_type": "stream",
     "text": [
      "245.16168541698113\n",
      "0.5630543342926195\n",
      "TRAIN: [  0   1   2   3   4   5   6   8   9  10  11  12  13  14  15  16  17  19\n",
      "  20  21  22  23  24  27  28  29  30  31  32  34  35  36  37  39  41  42\n",
      "  43  44  45  46  47  48  49  50  51  52  53  54  55  56  57  58  59  61\n",
      "  62  63  65  67  68  70  71  72  73  74  75  76  77  78  79  80  81  82\n",
      "  83  85  87  88  89  90  92  94  95  96  98  99 100 101 102 103 104 105\n",
      " 108 109 110 111 112 113 114 115 116 118 122 123 126 128 129 131 132 133\n",
      " 134 135 136 137 138 139 144 145 146 147 148 149 150 151 152 153 154 155\n",
      " 157 158 159 160 161 162 163 164 165 166 167 168 169 170 171 172 173 174\n",
      " 176 177 178 179 180 181 182 183 184 186 187 188 189 190 191 193 194 195\n",
      " 196 197 199 200 203 205 206 210 211 212 213 214 215 216 217 218 219 220\n",
      " 221 223 224 227 228 229 230 232 233 234 235 236 237 238 239 240 242 243\n",
      " 244 245 246 247 249 250 253 254 255 256 258 259 260 262] TEST: [  7  18  25  26  33  38  40  60  64  66  69  84  86  91  93  97 106 107\n",
      " 117 119 120 121 124 125 127 130 140 141 142 143 156 175 185 192 198 201\n",
      " 202 204 207 208 209 222 225 226 231 241 248 251 252 257 261 263]\n"
     ]
    },
    {
     "name": "stderr",
     "output_type": "stream",
     "text": [
      "A column-vector y was passed when a 1d array was expected. Please change the shape of y to (n_samples,), for example using ravel().\n"
     ]
    },
    {
     "name": "stdout",
     "output_type": "stream",
     "text": [
      "162.9730778821154\n",
      "0.6180540800537754\n"
     ]
    }
   ],
   "source": [
    "model = RandomForestRegressor(random_state=42)\n",
    "\n",
    "cv = model_selection.KFold(n_splits=5, shuffle=True)\n",
    "\n",
    "for train_index, test_index in cv.split(rxns_df_x):\n",
    "    print(\"TRAIN:\", train_index, \"TEST:\", test_index)\n",
    "    X_train, X_test = rxns_df_x.iloc[train_index], rxns_df_x.iloc[test_index]\n",
    "    y_train, y_test = rxns_df_y.iloc[train_index], rxns_df_y.iloc[test_index]\n",
    "\n",
    "    # For training, fit() is used\n",
    "    model.fit(X_train, y_train)\n",
    " \n",
    "    # For other metrics, we need the predictions of the model\n",
    "    y_pred = model.predict(X_test)\n",
    "\n",
    "    print(metrics.mean_squared_error(y_test, y_pred))\n",
    "    print(metrics.r2_score(y_test, y_pred))"
   ]
  },
  {
   "cell_type": "markdown",
   "metadata": {},
   "source": [
    "The randomization matters a lot ! We see a wide range of r2 accuracies here going from 0.24 to 0.78. Let's just pick the train/set separation that lead to the model with the best performance and see if we can improve it by separating the test set into a validation and a test set."
   ]
  },
  {
   "cell_type": "code",
   "execution_count": 37,
   "metadata": {},
   "outputs": [],
   "source": [
    "# we pick the best performing model\n",
    "TRAIN= [  1,   2  , 4 ,  5 ,  6 ,  7 ,  8 ,  9,  10,  11,  12,  13,  14,  15,  16,  17,  18,  19,\n",
    "  20  ,21,  22,  26,  27,  28,  29 , 30 , 31 , 32 , 33,  34,  36,  37,  38,  40,  42,  43,\n",
    "  44,  45  ,47  ,48,  49,  50 , 51 , 52 , 53 , 56 , 57 , 58 , 59,  60,  61,  62,  63,  64,\n",
    "  65,  67,  69,  70,  71,  72 , 73  ,74 , 75,  77,  78,  79,  80,  82,  83,  84,  85,  86,\n",
    "  87,  88 , 89 , 90 , 91,  93,  94,  95,  98,  99, 100, 102, 104, 105, 106, 107, 108, 109,\n",
    " 110, 112 ,114 ,115 ,117 ,118, 119, 122, 125, 127, 128, 129, 130, 131, 132, 133, 134, 135,\n",
    " 136, 138, 139 ,140, 141, 143, 144, 145, 146, 147, 148, 151, 152, 154, 155, 156, 158, 159,\n",
    " 160 ,161 ,162, 163, 164, 166, 167 ,169 ,170 ,172, 173, 174, 178, 179, 180, 182, 183, 184,\n",
    " 185, 186, 187, 188, 189, 190, 192, 193, 194, 195, 196, 197, 198, 200, 201, 202, 203, 204,\n",
    " 205, 206, 209, 210, 211, 213, 214, 215, 216, 217, 218, 220, 221, 222, 223, 224, 226, 227,\n",
    " 228, 230, 231, 232, 233, 234, 235, 236 ,237, 238, 239, 240, 242, 243, 245, 246, 248, 249,\n",
    " 251, 252, 253, 254, 255, 256, 257 ,258, 259, 260, 261, 262, 263] \n",
    "TEMP= [  0,   3,  23,  24,  25,  35,  39,  41,  46,  54,  55,  66,  68 , 76 , 81 , 92 , 96 , 97,\n",
    " 101, 103 ,111 ,113 ,116, 120, 121, 123, 124, 126 ,137, 142, 149, 150, 153, 157, 165, 168,\n",
    " 171 ,175 ,176 ,177 ,181 ,191 ,199 ,207, 208, 212, 219, 225 ,229 ,241 ,244, 247, 250]\n",
    "x_train = rxns_df_x.copy()\n",
    "for j in range(0,264):\n",
    "    if j not in TRAIN:\n",
    "        x_train = x_train.drop([j], axis=0)"
   ]
  },
  {
   "cell_type": "code",
   "execution_count": 38,
   "metadata": {},
   "outputs": [],
   "source": [
    "y_train = rxns_df_y.copy()\n",
    "for j in range(0,264):\n",
    "    if j not in TRAIN:\n",
    "        y_train = y_train.drop([j], axis=0)\n",
    "x_temp = rxns_df_x.copy()\n",
    "for j in range(0,264):\n",
    "    if j not in TEMP:\n",
    "        x_temp = x_temp.drop([j], axis=0)\n",
    "y_temp = rxns_df_y.copy()\n",
    "for j in range(0,264):\n",
    "    if j not in TEMP:\n",
    "        y_temp = y_temp.drop([j], axis=0)"
   ]
  },
  {
   "cell_type": "code",
   "execution_count": 54,
   "metadata": {},
   "outputs": [
    {
     "name": "stderr",
     "output_type": "stream",
     "text": [
      "A column-vector y was passed when a 1d array was expected. Please change the shape of y to (n_samples,), for example using ravel().\n"
     ]
    },
    {
     "name": "stdout",
     "output_type": "stream",
     "text": [
      "MSE = 112.37495160320759\n",
      "r2 = 0.7820261050247431\n"
     ]
    }
   ],
   "source": [
    "# this is the model we found as the best 80/20 with no validation\n",
    "model.fit(x_train, y_train)\n",
    "y_pred = model.predict(x_temp)\n",
    "print('MSE =',metrics.mean_squared_error(y_temp, y_pred))\n",
    "print('r2 =', metrics.r2_score(y_temp, y_pred))"
   ]
  },
  {
   "cell_type": "code",
   "execution_count": 42,
   "metadata": {},
   "outputs": [
    {
     "name": "stderr",
     "output_type": "stream",
     "text": [
      "A column-vector y was passed when a 1d array was expected. Please change the shape of y to (n_samples,), for example using ravel().\n"
     ]
    },
    {
     "name": "stdout",
     "output_type": "stream",
     "text": [
      "val RMSE = 7.107781982717686\n",
      "val MAE = 5.273961538461543\n",
      "val r2 = 0.8258030325465628\n",
      "test RMSE = 13.112529705378918\n",
      "test MAE = 9.450862962962965\n",
      "test r2 = 0.7435999657836797\n"
     ]
    }
   ],
   "source": [
    "# try the same with a validation set this time\n",
    "x_val, x_test, y_val, y_test = train_test_split(x_temp, y_temp, test_size=0.5,random_state=42)\n",
    "model.fit(x_train, y_train)\n",
    "y_pred = model.predict(x_val)\n",
    "print('val RMSE =',np.sqrt(metrics.mean_squared_error(y_val, y_pred)))\n",
    "print('val MAE =',metrics.mean_absolute_error(y_val, y_pred))\n",
    "print('val r2 =', metrics.r2_score(y_val, y_pred))\n",
    "\n",
    "y_pred1 = model.predict(x_test)\n",
    "print('test RMSE =',np.sqrt(metrics.mean_squared_error(y_test, y_pred1)))\n",
    "print('test MAE =',metrics.mean_absolute_error(y_test, y_pred1))\n",
    "print('test r2 =', metrics.r2_score(y_test, y_pred1))"
   ]
  },
  {
   "cell_type": "markdown",
   "metadata": {},
   "source": [
    "The model without a validation and test set separation performs better than the one with it ! We will keep the former with 80% train and 20% test without validation. "
   ]
  },
  {
   "cell_type": "markdown",
   "metadata": {},
   "source": [
    "# Using functions to explain SHAP values with natural language"
   ]
  },
  {
   "cell_type": "markdown",
   "metadata": {},
   "source": [
    "## Looking at the format of the shap_values object and how to manipulate it"
   ]
  },
  {
   "cell_type": "code",
   "execution_count": 55,
   "metadata": {},
   "outputs": [
    {
     "data": {
      "text/plain": [
       ".values =\n",
       "array([[ 1.01465073, -0.69990833, -0.31232884, ..., -1.15684325,\n",
       "         0.59944889,  0.26712196],\n",
       "       [-0.25767638,  1.97128434, -0.47835879, ...,  0.21774913,\n",
       "         0.64890182,  0.43254736],\n",
       "       [-0.2191466 , -0.49046317, -0.08265327, ..., -1.17998777,\n",
       "         0.08674059,  0.03685982],\n",
       "       ...,\n",
       "       [-0.0959282 , -0.16031469, -0.27971211, ...,  0.6031793 ,\n",
       "         0.52536957,  0.34855183],\n",
       "       [-0.25530676, -0.51878402,  0.91049419, ...,  0.65111951,\n",
       "         0.66761203,  0.37661743],\n",
       "       [-0.08229186, -0.21202404, -0.04005246, ..., -1.65595477,\n",
       "         1.18923411,  0.72057332]])\n",
       "\n",
       ".base_values =\n",
       "array([21.986686, 21.986686, 21.986686, 21.986686, 21.986686, 21.986686,\n",
       "       21.986686, 21.986686, 21.986686, 21.986686, 21.986686, 21.986686,\n",
       "       21.986686, 21.986686, 21.986686, 21.986686, 21.986686, 21.986686,\n",
       "       21.986686, 21.986686, 21.986686, 21.986686, 21.986686, 21.986686,\n",
       "       21.986686, 21.986686, 21.986686, 21.986686, 21.986686, 21.986686,\n",
       "       21.986686, 21.986686, 21.986686, 21.986686, 21.986686, 21.986686,\n",
       "       21.986686, 21.986686, 21.986686, 21.986686, 21.986686, 21.986686,\n",
       "       21.986686, 21.986686, 21.986686, 21.986686, 21.986686, 21.986686,\n",
       "       21.986686, 21.986686, 21.986686, 21.986686, 21.986686])\n",
       "\n",
       ".data =\n",
       "array([[1, 0, 0, ..., 0, 0, 1],\n",
       "       [0, 1, 0, ..., 1, 0, 1],\n",
       "       [0, 0, 0, ..., 0, 0, 1],\n",
       "       ...,\n",
       "       [0, 0, 0, ..., 1, 0, 1],\n",
       "       [0, 0, 1, ..., 1, 0, 1],\n",
       "       [0, 0, 0, ..., 0, 0, 1]], dtype=int64)"
      ]
     },
     "execution_count": 55,
     "metadata": {},
     "output_type": "execute_result"
    }
   ],
   "source": [
    "explainer = shap.Explainer(model, x_train)\n",
    "shap_values = explainer(x_temp, check_additivity=False)\n",
    "shap_values"
   ]
  },
  {
   "cell_type": "code",
   "execution_count": 45,
   "metadata": {},
   "outputs": [
    {
     "data": {
      "text/plain": [
       ".values =\n",
       "array([ 1.01465073e+00, -6.99908333e-01, -3.12328844e-01,  3.83836760e-03,\n",
       "       -2.25490106e-03,  1.19405499e-03, -2.14931819e-01, -1.78070006e-01,\n",
       "       -3.08035704e-01, -8.48784998e-03, -6.23646940e-02, -4.13415838e-02,\n",
       "       -2.26017735e-01,  3.25747314e-02, -5.07910985e-01, -2.94817223e-03,\n",
       "       -1.04002632e-01,  6.00250712e-02, -8.91628677e-02,  6.02596722e-01,\n",
       "        1.96681568e-02, -5.67856511e+00, -1.63908428e+00, -2.55544325e-02,\n",
       "       -1.08675564e-01, -1.19002836e-01, -1.82976725e+00, -2.92585731e-01,\n",
       "       -1.53960787e-01,  1.83023059e-01,  3.42111650e-01, -2.13669899e-01,\n",
       "       -2.54281166e+00, -3.66159728e+00, -1.73381762e+00, -1.81984817e-02,\n",
       "       -1.99486399e-01, -1.84033008e-01, -1.28272015e+00, -1.15684325e+00,\n",
       "        5.99448889e-01,  2.67121963e-01])\n",
       "\n",
       ".base_values =\n",
       "21.986686\n",
       "\n",
       ".data =\n",
       "array([1, 0, 0, 0, 0, 0, 0, 0, 0, 0, 0, 0, 1, 0, 0, 0, 0, 1, 0, 1, 0, 0,\n",
       "       0, 0, 0, 0, 0, 0, 0, 1, 0, 0, 0, 0, 1, 0, 1, 0, 1, 0, 0, 1],\n",
       "      dtype=int64)"
      ]
     },
     "execution_count": 45,
     "metadata": {},
     "output_type": "execute_result"
    }
   ],
   "source": [
    "shap_values[0]"
   ]
  },
  {
   "cell_type": "markdown",
   "metadata": {},
   "source": [
    "Each experiment has 3 types of information in the shap_value object. They are separated as such:\n",
    "- .values : a 1D array with the SHAP values of each feature pertaining to this prediction (SHAP values are determined locally !).\n",
    "- .base_values : the value of the mean yield of this set. Note that this value is the same for every experiment of a given set.\n",
    "- .data : a 1D array which is the input given to the model. In OHE format it shows the features that are present in the observed experiment. "
   ]
  },
  {
   "cell_type": "code",
   "execution_count": 57,
   "metadata": {},
   "outputs": [
    {
     "name": "stdout",
     "output_type": "stream",
     "text": [
      "Cu(OAc)2 SHAP value = 1.014650725827305\n",
      "Cu2O SHAP value = -0.6999083329743371\n",
      "CuBr SHAP value = -0.312328844011754\n",
      "CuCl SHAP value = 0.0038383676041121363\n",
      "CuI SHAP value = -0.002254901059277472\n",
      "L1 SHAP value = 0.0011940549930295674\n",
      "L10 SHAP value = -0.21493181932659355\n",
      "L11 SHAP value = -0.17807000594650163\n",
      "L12 SHAP value = -0.3080357044826087\n",
      "L2 SHAP value = -0.00848784997855546\n",
      "L3 SHAP value = -0.06236469398645568\n",
      "L4 SHAP value = -0.041341583831817845\n",
      "L5 SHAP value = -0.22601773470418265\n",
      "L6 SHAP value = 0.03257473144243704\n",
      "L7 SHAP value = -0.5079109846450955\n",
      "L8 SHAP value = -0.0029481722303899005\n",
      "L9 SHAP value = -0.10400263194402214\n",
      "0.05 SHAP value = 0.060025071188574655\n",
      "0.1 SHAP value = -0.08916286765283075\n",
      "Cs2CO3 SHAP value = 0.6025967221277824\n",
      "Et3N SHAP value = 0.019668156823609024\n",
      "K2CO3 SHAP value = -5.67856510845013\n",
      "K3PO4 SHAP value = -1.6390842777880608\n",
      "KOH SHAP value = -0.025554432527715106\n",
      "NaOAc SHAP value = -0.10867556428012903\n",
      "NaOtBu SHAP value = -0.11900283596303779\n",
      "TBAO SHAP value = -1.8297672451019753\n",
      "0.5 SHAP value = -0.2925857305029058\n",
      "1.0 SHAP value = -0.15396078683996164\n",
      "2.0 SHAP value = 0.18302305865105153\n",
      "2Me-THF SHAP value = 0.34211165023581996\n",
      "ACN SHAP value = -0.21366989930189448\n",
      "DMSO SHAP value = -2.542811664972687\n",
      "EtOH SHAP value = -3.661597281426657\n",
      "PhMe SHAP value = -1.7338176152272717\n",
      "iBuOH SHAP value = -0.018198481740218996\n",
      "0.5 M SHAP value = -0.19948639910453494\n",
      "1.0 M SHAP value = -0.18403300834397668\n",
      "60 SHAP value = -1.2827201534184132\n",
      "80 SHAP value = -1.156843250235288\n",
      "1.1 SHAP value = 0.5994488887232546\n",
      "1.5 SHAP value = 0.26712196283373485\n"
     ]
    }
   ],
   "source": [
    "for i in range(0,len(shap_values[0])):\n",
    "    print(f'{x_train.columns[i]} SHAP value = {shap_values.values[0][i]}')"
   ]
  },
  {
   "cell_type": "code",
   "execution_count": 106,
   "metadata": {},
   "outputs": [
    {
     "data": {
      "image/png": "[encoded data removed]",
      "text/plain": [
       "<Figure size 800x700 with 3 Axes>"
      ]
     },
     "metadata": {},
     "output_type": "display_data"
    }
   ],
   "source": [
    "shap.plots.waterfall(shap_values[0], max_display=11)"
   ]
  },
  {
   "cell_type": "markdown",
   "metadata": {},
   "source": [
    "Comparing the values in the plot to those given by the previous cell : as expected, they match. The plot has the advantage of automatically showing the values in order from the highest to the lowest but we can easily do the same with natural language."
   ]
  },
  {
   "cell_type": "markdown",
   "metadata": {},
   "source": [
    "## Writing functions !"
   ]
  },
  {
   "cell_type": "code",
   "execution_count": 88,
   "metadata": {},
   "outputs": [],
   "source": [
    "def shap_value_effect(feature, nb):\n",
    "    \"\"\"\n",
    "    returns the influence of the feature on the prediction of a specific data point\n",
    "    feature = name of the feature we are looking at\n",
    "    nb = index of the point\n",
    "    \"\"\"\n",
    "    print(f'The SHAP value of {feature} for the experiment number {nb} was {shap_values.values[nb][x_train.columns.to_list().index(feature)]}.')\n",
    "    if shap_values.values[nb][x_train.columns.to_list().index(feature)] > 0:\n",
    "        if shap_values.data[nb][x_train.columns.to_list().index(feature)] == 1:\n",
    "            print(f\"The use of {feature} in this experiment made the yield higher than average.\")\n",
    "        else:\n",
    "            print(f'The lack of {feature} in this experiment made the yield higher than average.')\n",
    "    else:\n",
    "        if shap_values.data[nb][x_train.columns.to_list().index(feature)] == 1:\n",
    "            print(f\"The use of {feature} in this experiment made the yield lower than average.\")\n",
    "        else:\n",
    "            print(f'The lack of {feature} in this experiment made the yield lower than average.')\n",
    "    print(f'Average yield = {shap_values.base_values[nb]}')\n",
    "    print(f'Predicted yield of this experiment = {y_pred[nb]}')\n",
    "    print(f'Actual yield of this experiment = {y_temp[\"Yield of 3aa\"][nb]}')\n"
   ]
  },
  {
   "cell_type": "code",
   "execution_count": 89,
   "metadata": {},
   "outputs": [
    {
     "name": "stdout",
     "output_type": "stream",
     "text": [
      "The SHAP value of K2CO3 for the experiment number 0 was -5.67856510845013.\n",
      "The lack of K2CO3 in this experiment made the yield lower than average.\n",
      "Average yield = 21.986686\n",
      "Predicted yield of this experiment = 1.5147999999999993\n",
      "Actual yield of this experiment = 0.0\n"
     ]
    }
   ],
   "source": [
    "shap_value_effect('K2CO3', 0)"
   ]
  },
  {
   "cell_type": "code",
   "execution_count": 105,
   "metadata": {},
   "outputs": [
    {
     "name": "stdout",
     "output_type": "stream",
     "text": [
      "The SHAP value of EtOH for the experiment number 0 was -3.661597281426657.\n",
      "The lack of EtOH in this experiment made the yield lower than average.\n",
      "Average yield = 21.986686\n",
      "Predicted yield of this experiment = 1.5147999999999993\n",
      "Actual yield of this experiment = 0.0\n"
     ]
    }
   ],
   "source": [
    "shap_value_effect('EtOH', 0)"
   ]
  },
  {
   "cell_type": "code",
   "execution_count": 107,
   "metadata": {},
   "outputs": [],
   "source": [
    "def shap_global(feature):\n",
    "    \"\"\"\n",
    "    returns the global effect of a feature on the yield by analyzing its SHAP values\n",
    "    \"\"\"\n",
    "    feature_shaps_pos = [shap_values.values[i][x_train.columns.to_list().index(feature)] for i in range(0,len(shap_values.values)) if shap_values.data[i][x_train.columns.to_list().index(feature)] == 1]\n",
    "    feature_shaps_neg = [shap_values.values[i][x_train.columns.to_list().index(feature)] for i in range(0,len(shap_values.values)) if shap_values.data[i][x_train.columns.to_list().index(feature)] == 0]\n",
    "    pos_mean = np.mean(feature_shaps_pos)\n",
    "    neg_mean = np.mean(feature_shaps_neg)\n",
    "    print(f\"The mean SHAP value impact on the yield when {feature} is present is\", pos_mean)\n",
    "    print(f\"The mean SHAP value impact on the yield when {feature} is absent is\", neg_mean)\n",
    "    if np.abs(pos_mean) > np.abs(neg_mean):\n",
    "        if pos_mean > 0:\n",
    "            print(f\"Overall, the presence of {feature} makes the yield higher.\")\n",
    "        else:\n",
    "            print(f'Overall, the presence of {feature} makes the yield lower.')\n",
    "    else:\n",
    "        if neg_mean > 0:\n",
    "            print(f\"Overall, the absence of {feature} makes the yield higher.\")\n",
    "        else:\n",
    "            print(f'Overall, the absence of {feature} makes the yield lower.')\n",
    "\n",
    "# if both values are the same sign, there could be a problem...This is a very basic analysis"
   ]
  },
  {
   "cell_type": "code",
   "execution_count": 100,
   "metadata": {},
   "outputs": [
    {
     "name": "stdout",
     "output_type": "stream",
     "text": [
      "The mean SHAP value impact on the yield when K2CO3 is present is 21.802705896845396\n",
      "The mean SHAP value impact on the yield when K2CO3 is absent is -4.798291795089791\n",
      "Overall, the presence of K2CO3 makes the yield higher.\n"
     ]
    }
   ],
   "source": [
    "shap_global('K2CO3')"
   ]
  },
  {
   "cell_type": "code",
   "execution_count": 101,
   "metadata": {},
   "outputs": [
    {
     "name": "stdout",
     "output_type": "stream",
     "text": [
      "The mean SHAP value impact on the yield when PhMe is present is -2.7480043280102184\n",
      "The mean SHAP value impact on the yield when PhMe is absent is 0.2998275149021799\n",
      "Overall, the presence of PhMe makes the yield lower.\n"
     ]
    }
   ],
   "source": [
    "shap_global('PhMe')"
   ]
  },
  {
   "cell_type": "code",
   "execution_count": 102,
   "metadata": {},
   "outputs": [
    {
     "name": "stdout",
     "output_type": "stream",
     "text": [
      "The mean SHAP value impact on the yield when 2Me-THF is present is -2.265597039930626\n",
      "The mean SHAP value impact on the yield when 2Me-THF is absent is 0.8058906261358146\n",
      "Overall, the presence of 2Me-THF makes the yield lower.\n"
     ]
    }
   ],
   "source": [
    "shap_global('2Me-THF')"
   ]
  },
  {
   "cell_type": "code",
   "execution_count": 110,
   "metadata": {},
   "outputs": [],
   "source": [
    "pos_shaps_dict = {}\n",
    "neg_shaps_dict = {}\n",
    "for j in x_train.columns:\n",
    "    feature_shaps_pos = [shap_values.values[i][x_train.columns.to_list().index(j)] for i in range(0,len(shap_values.values)) if shap_values.data[i][x_train.columns.to_list().index(j)] == 1]\n",
    "    pos_shaps_dict[j]= np.mean(feature_shaps_pos)\n",
    "    feature_shaps_neg = [shap_values.values[i][x_train.columns.to_list().index(j)] for i in range(0,len(shap_values.values)) if shap_values.data[i][x_train.columns.to_list().index(j)] == 0]\n",
    "    neg_shaps_dict[j] = np.mean(feature_shaps_neg)"
   ]
  },
  {
   "cell_type": "code",
   "execution_count": 111,
   "metadata": {},
   "outputs": [
    {
     "data": {
      "text/plain": [
       "{'Cu(OAc)2': 0.8712302977295493,\n",
       " 'Cu2O': 2.413405999768666,\n",
       " 'CuBr': 1.0559279727500552,\n",
       " 'CuCl': -0.1827139579637014,\n",
       " 'CuI': -0.08692622156655083,\n",
       " 'L1': -1.6932369555916134,\n",
       " 'L10': 1.40639870180806,\n",
       " 'L11': 4.951273382482316,\n",
       " 'L12': 3.1776741898735055,\n",
       " 'L2': nan,\n",
       " 'L3': -1.22778965426783,\n",
       " 'L4': 1.1810469595608066,\n",
       " 'L5': -0.4464385753959134,\n",
       " 'L6': -0.8050005824110545,\n",
       " 'L7': 3.1315838745711444,\n",
       " 'L8': -0.5825558542499562,\n",
       " 'L9': 1.668067931948557,\n",
       " '0.05': 0.12116725654719493,\n",
       " '0.1': -0.05988385656183627,\n",
       " 'Cs2CO3': 0.5708776842325702,\n",
       " 'Et3N': -0.277896565677535,\n",
       " 'K2CO3': 21.802705896845396,\n",
       " 'K3PO4': 11.938765791612447,\n",
       " 'KOH': 0.09683416248620781,\n",
       " 'NaOAc': 0.5779655246484344,\n",
       " 'NaOtBu': 1.9229605241670533,\n",
       " 'TBAO': 6.480763336066775,\n",
       " '0.5': 0.49469291146600297,\n",
       " '1.0': 0.026482542843689772,\n",
       " '2.0': 1.2583429746543577,\n",
       " '2Me-THF': -2.265597039930626,\n",
       " 'ACN': -0.41570234122980765,\n",
       " 'DMSO': 4.758459975665949,\n",
       " 'EtOH': 2.9836818753594443,\n",
       " 'PhMe': -2.7480043280102184,\n",
       " 'iBuOH': -0.5259517781070508,\n",
       " '0.5 M': -0.31102927263132313,\n",
       " '1.0 M': 0.2485468028858206,\n",
       " '60': -1.1434738973517158,\n",
       " '80': 0.6162863689951729,\n",
       " '1.1': -0.855335380044027,\n",
       " '1.5': 0.37178124242875266}"
      ]
     },
     "execution_count": 111,
     "metadata": {},
     "output_type": "execute_result"
    }
   ],
   "source": [
    "pos_shaps_dict"
   ]
  },
  {
   "cell_type": "markdown",
   "metadata": {},
   "source": [
    "L2 = nan ??? "
   ]
  },
  {
   "cell_type": "code",
   "execution_count": 112,
   "metadata": {},
   "outputs": [
    {
     "data": {
      "text/plain": [
       "{'Cu(OAc)2': -0.146937869799571,\n",
       " 'Cu2O': -0.5855459917793365,\n",
       " 'CuBr': -0.31606523846401774,\n",
       " 'CuCl': 0.11639043880097098,\n",
       " 'CuI': 0.04489126650600527,\n",
       " 'L1': 0.0656921808789868,\n",
       " 'L10': -0.13079340211369017,\n",
       " 'L11': -0.13374249344415678,\n",
       " 'L12': -0.2609646279096306,\n",
       " 'L2': 0.045258228289186034,\n",
       " 'L3': 0.2819620942619934,\n",
       " 'L4': -0.0488966973344905,\n",
       " 'L5': 0.27471449503274376,\n",
       " 'L6': 0.09087637480001304,\n",
       " 'L7': -0.6068678954544406,\n",
       " 'L8': 0.08182704931441177,\n",
       " 'L9': -0.15812182565220534,\n",
       " '0.05': -0.0625608252765781,\n",
       " '0.1': 0.1594400034341543,\n",
       " 'Cs2CO3': -0.0803769435725677,\n",
       " 'Et3N': 0.0732646931802934,\n",
       " 'K2CO3': -4.798291795089791,\n",
       " 'K3PO4': -1.595864601688376,\n",
       " 'KOH': 0.048811595663910336,\n",
       " 'NaOAc': -0.08243747915087307,\n",
       " 'NaOtBu': -0.15093216384405314,\n",
       " 'TBAO': -1.2499562563412392,\n",
       " '0.5': -0.22784007020629615,\n",
       " '1.0': 0.006212381900301903,\n",
       " '2.0': -0.6255658038614175,\n",
       " '2Me-THF': 0.8058906261358146,\n",
       " 'ACN': 0.12262285556069621,\n",
       " 'DMSO': -1.7042185770166227,\n",
       " 'EtOH': -2.079190433948006,\n",
       " 'PhMe': 0.2998275149021799,\n",
       " 'iBuOH': 0.008382806663432756,\n",
       " '0.5 M': 0.26788906807995205,\n",
       " '1.0 M': -0.3088369840486995,\n",
       " '60': 0.7113113792281954,\n",
       " '80': -1.0208047094741686,\n",
       " '1.1': 0.5766530798610213,\n",
       " '1.5': -0.537377513442877}"
      ]
     },
     "execution_count": 112,
     "metadata": {},
     "output_type": "execute_result"
    }
   ],
   "source": [
    "neg_shaps_dict"
   ]
  },
  {
   "cell_type": "code",
   "execution_count": 127,
   "metadata": {},
   "outputs": [
    {
     "name": "stdout",
     "output_type": "stream",
     "text": [
      "The feature with the highest SHAP value when it is present is K2CO3\n",
      "The feature with the highest SHAP value when it is absent is 2Me-THF\n"
     ]
    }
   ],
   "source": [
    "print(f'The feature with the highest SHAP value when it is present is {list(pos_shaps_dict.keys())[list(pos_shaps_dict.values()).index(max(pos_shaps_dict.values()))]}')\n",
    "print(f'The feature with the highest SHAP value when it is absent is {list(neg_shaps_dict.keys())[list(neg_shaps_dict.values()).index(max(neg_shaps_dict.values()))]}')"
   ]
  },
  {
   "cell_type": "markdown",
   "metadata": {},
   "source": [
    "Gives us the feature that has the most positive effect on the yield and the one with the most negative effect."
   ]
  },
  {
   "cell_type": "code",
   "execution_count": 128,
   "metadata": {},
   "outputs": [
    {
     "name": "stdout",
     "output_type": "stream",
     "text": [
      "The feature with the lowest SHAP value when it is present is PhMe\n",
      "The feature with the lowest SHAP value when it is absent is K2CO3\n"
     ]
    }
   ],
   "source": [
    "print(f'The feature with the lowest SHAP value when it is present is {list(pos_shaps_dict.keys())[list(pos_shaps_dict.values()).index(min(pos_shaps_dict.values()))]}')\n",
    "print(f'The feature with the lowest SHAP value when it is absent is {list(neg_shaps_dict.keys())[list(neg_shaps_dict.values()).index(min(neg_shaps_dict.values()))]}')"
   ]
  },
  {
   "cell_type": "markdown",
   "metadata": {},
   "source": [
    "K2CO3 is effectively matched as the feature that is considered as having the most positive effect on the yield, however this time PhMe is the feature found to have the most negative effect. Again, SHAP values are determined locally so there isn't really a 'global best' or a 'global worst'."
   ]
  },
  {
   "cell_type": "markdown",
   "metadata": {},
   "source": [
    "The feature with the best effect when it is present isn't necessarily the one with the worst effect when it is absent and the feature with the best effect when it is absent isn't necessarily the one with the worst effect when it is present. The model has several global rankings that can seem counter-intuitive when explained."
   ]
  },
  {
   "cell_type": "code",
   "execution_count": null,
   "metadata": {},
   "outputs": [],
   "source": []
  }
 ],
 "metadata": {
  "kernelspec": {
   "display_name": "base",
   "language": "python",
   "name": "python3"
  },
  "language_info": {
   "codemirror_mode": {
    "name": "ipython",
    "version": 3
   },
   "file_extension": ".py",
   "mimetype": "text/x-python",
   "name": "python",
   "nbconvert_exporter": "python",
   "pygments_lexer": "ipython3",
   "version": "3.11.3"
  },
  "orig_nbformat": 4
 },
 "nbformat": 4,
 "nbformat_minor": 2
}
